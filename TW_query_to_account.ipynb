{
 "cells": [
  {
   "attachments": {},
   "cell_type": "markdown",
   "metadata": {},
   "source": [
    "Created on Wed Nov 23 20:39:32 2022\n",
    "@author: bukold@uni-hildesheim.de\n",
    "\n",
    "This script searches the Twitter-API for users. It Script may take a while, because the API pauses repeatedly for 15 Minutes.\n",
    "Good Luck, Q. Bukold"
   ]
  },
  {
   "cell_type": "code",
   "execution_count": null,
   "metadata": {},
   "outputs": [],
   "source": [
    "import tweepy as tw\n",
    "import pandas as pd\n",
    "import json\n",
    "from pandas.io.json import json_normalize"
   ]
  },
  {
   "cell_type": "code",
   "execution_count": null,
   "metadata": {},
   "outputs": [],
   "source": [
    "bearer_handler = \"\"\n",
    "auth = tw.OAuth2BearerHandler(bearer_handler)\n",
    "api = tw.API(auth, wait_on_rate_limit=True)\n",
    "\n",
    "#define input df (should have one column called \"query\")\n",
    "input_df = \n",
    "query_input = pd.DataFrame(input_df[\"query\"])\n",
    "\n",
    "#prepare output-df\n",
    "df = pd.DataFrame(list())\n",
    "df.to_csv(\"output.csv\")\n",
    "output = \"output.csv\" #size of the .csv does not matter"
   ]
  },
  {
   "cell_type": "code",
   "execution_count": null,
   "metadata": {},
   "outputs": [],
   "source": [
    "\n",
    "# function to convert _json to JSON\n",
    "def jsonify_tweepy(tweepy_object):\n",
    "    json_str = json.dumps(tweepy_object._json)\n",
    "    return json.loads(json_str)\n",
    "\n",
    "def JSON_to_df(query_results):\n",
    "    #using function\n",
    "    list = [jsonify_tweepy(tweepy_json)for tweepy_json in query_results]\n",
    "    # Convert followers_list to a pandas dataframe\n",
    "    df = json_normalize(list)\n",
    "    # filter dataframe\n",
    "    return(df)\n",
    "\n",
    "#actual search, change count-variable for less results per query\n",
    "def search_api(query):\n",
    "    result = api.search_users(query, count=5, include_entities=False)\n",
    "    return result\n",
    "\n",
    "# combine lists into df\n",
    "def combine_lists_into_df(list1, list2):\n",
    "    #lists -> pandas df\n",
    "    user_df = pd.concat(list1)\n",
    "    query_df = pd.DataFrame(list2)\n",
    "    query_df.columns = ['query']\n",
    "    user_df = user_df.reset_index()\n",
    "    query_df = query_df.reset_index()\n",
    "    #combine df of querys and df of found users\n",
    "    connected_df = pd.concat([query_df, user_df], axis=1)\n",
    "    connected_df = connected_df.drop(connected_df.columns[2], axis=1)\n",
    "    return connected_df"
   ]
  },
  {
   "cell_type": "code",
   "execution_count": null,
   "metadata": {},
   "outputs": [],
   "source": [
    "user_df = pd.DataFrame(columns = ['query', 'screen_name', 'name', 'id', 'description', 'verified', 'followers_count'])\n",
    "user_list = []\n",
    "query_list = []\n",
    "not_found = []\n",
    "repetitions = 0\n",
    "\n",
    "for index, row in query_input.iterrows():\n",
    "    #print progress\n",
    "    repetitions = repetitions + 1\n",
    "    print(\"***\",repetitions, \"von\", len(query_input),\"***\")\n",
    "\n",
    "    #search user via API\n",
    "    user = (search_api(row[\"query\"])) #add column-name of input-csv\n",
    "    user_df_type = JSON_to_df(user).filter(['screen_name', 'name', 'id', 'description', 'verified', 'followers_count'],  axis=1)\n",
    "    \n",
    "    #if not found, append official_name to not_found-list\n",
    "    if user_df_type.empty:\n",
    "        not_found.append(row[\"query\"])\n",
    "    \n",
    "    #else append results to user_list\n",
    "    else:\n",
    "        user_list.append(user_df_type)\n",
    "        #for every result add query to list, in order to later combine query and results in one df\n",
    "        for i in range(len(user_df_type.index)):\n",
    "            query_list.append(row['query'])\n",
    "\n",
    "    #save all X repetitions, in case of shut down\n",
    "    if repetitions % 500 == 0: #copy to output every 500 querys\n",
    "        #combine lists and save to csv\n",
    "        combine_lists_into_df(user_list, query_list).to_csv(output, encoding='utf-8', index=False)\n",
    "        #print how many official_names where not found\n",
    "        print(len(not_found))\n",
    "\n",
    "connected_df = combine_lists_into_df(user_list, query_list)\n",
    "connected_df = connected_df.merge(input_df, on='query', how='left')\n",
    "connected_df.to_csv(output, encoding='utf-8', index=False) \n",
    "\n",
    "#print number of querys with no result\n",
    "print(\"***\", len(not_found), \"names where not found\",\"***\")"
   ]
  }
 ],
 "metadata": {
  "kernelspec": {
   "display_name": "Python 3",
   "language": "python",
   "name": "python3"
  },
  "language_info": {
   "name": "python",
   "version": "3.9.6 (default, Oct 18 2022, 12:41:40) \n[Clang 14.0.0 (clang-1400.0.29.202)]"
  },
  "orig_nbformat": 4,
  "vscode": {
   "interpreter": {
    "hash": "31f2aee4e71d21fbe5cf8b01ff0e069b9275f58929596ceb00d14d90e3e16cd6"
   }
  }
 },
 "nbformat": 4,
 "nbformat_minor": 2
}
