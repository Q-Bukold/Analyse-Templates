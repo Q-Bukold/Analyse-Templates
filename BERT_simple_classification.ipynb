{
 "cells": [
  {
   "attachments": {},
   "cell_type": "markdown",
   "metadata": {},
   "source": [
    "# Textklassifikation mit BERT\n",
    "!pip install simpletransformers\n",
    "Call:   python3 classify.py train.csv apply.csv > ergebnis.csv\n",
    "\n",
    "Quelle für das Skript:\n",
    "https://github.com/ThilinaRajapakse/simpletransformers \n",
    "https://simpletransformers.ai\n",
    "\n",
    "Quelle für das Modell:\n",
    "https://deepset.ai/german-bert\n"
   ]
  },
  {
   "cell_type": "code",
   "execution_count": null,
   "metadata": {},
   "outputs": [],
   "source": [
    "from simpletransformers.classification import ClassificationModel\n",
    "import pandas as pd\n",
    "from sys import argv\n",
    "from sys import stderr\n",
    "import torch"
   ]
  },
  {
   "attachments": {},
   "cell_type": "markdown",
   "metadata": {},
   "source": [
    "# Train Model\n",
    "Import training data.\n",
    "e.g. (\"text\": \"some_strings\"..., \"class\": \"some_numbers\"...)"
   ]
  },
  {
   "cell_type": "code",
   "execution_count": null,
   "metadata": {},
   "outputs": [],
   "source": [
    "print (\"TRAINIEREN\")\n",
    "train_df = pd.read_csv('sample_data/training_data.tsv', sep='\\t')\n",
    "model = ClassificationModel('distilbert', 'distilbert-base-german-cased', use_cuda=False, args={'overwrite_output_dir': True, 'num_train_epochs': 1, 'num_workers': 0})\n",
    "model.train_model(train_df)"
   ]
  },
  {
   "attachments": {},
   "cell_type": "markdown",
   "metadata": {},
   "source": [
    "# Use trained model on data"
   ]
  },
  {
   "cell_type": "code",
   "execution_count": null,
   "metadata": {},
   "outputs": [],
   "source": [
    "apply_data = []\n",
    "with open('sample_data/apply.tsv', \"r\") as file_content:\n",
    "    for line in file_content.readlines():\n",
    "        line = line.strip()\n",
    "        apply_data.append(line)"
   ]
  },
  {
   "attachments": {},
   "cell_type": "markdown",
   "metadata": {},
   "source": [
    "# Output Data"
   ]
  },
  {
   "cell_type": "code",
   "execution_count": null,
   "metadata": {},
   "outputs": [],
   "source": [
    "predictions, raw_outputs = model.predict(apply_data)\n",
    "print (\"Ergebnisse: \")\n",
    "for i, line in enumerate(predictions):\n",
    "    print (str(i)+'\\t'+apply_data[i]+'\\t'+str(line)+'\\t'+str(raw_outputs[i]))"
   ]
  }
 ],
 "metadata": {
  "kernelspec": {
   "display_name": "Python 3",
   "language": "python",
   "name": "python3"
  },
  "language_info": {
   "codemirror_mode": {
    "name": "ipython",
    "version": 3
   },
   "file_extension": ".py",
   "mimetype": "text/x-python",
   "name": "python",
   "nbconvert_exporter": "python",
   "pygments_lexer": "ipython3",
   "version": "3.9.6"
  },
  "orig_nbformat": 4,
  "vscode": {
   "interpreter": {
    "hash": "31f2aee4e71d21fbe5cf8b01ff0e069b9275f58929596ceb00d14d90e3e16cd6"
   }
  }
 },
 "nbformat": 4,
 "nbformat_minor": 2
}
