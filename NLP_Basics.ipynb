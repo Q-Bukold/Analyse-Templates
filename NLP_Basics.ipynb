{
  "cells": [
    {
      "cell_type": "markdown",
      "metadata": {
        "id": "KlTGntp8oPiB"
      },
      "source": [
        "<b>Wiederholung</b>\n",
        "\n",
        "Die Themen aus unserem Kurs Schritt für Schritt"
      ]
    },
    {
      "cell_type": "markdown",
      "metadata": {
        "id": "5c_7LRrL2H7h"
      },
      "source": [
        "**Schritt 1**\n",
        "\n",
        "Zeitungsartikel aus der New York Times sollen analysiert werden. Sie müssen aber erst aufbereitet werden.\n",
        "\n",
        "Ich öffne die Datei nyt.txt in einem Editor. Man sieht: Es gibt Zeilen mit dem Text \"Seite\". Anscheinend trennen diese Zeilen die einzelnen Artikel voneinander.\n",
        "\n",
        "Ich schreibe in die letzte Zeile der Datei nyt.txt \"Seite\".\n",
        "\n",
        "Jetzt lade ich die Datei in den Ordner \"sample_data\"."
      ]
    },
    {
      "attachments": {},
      "cell_type": "markdown",
      "metadata": {
        "id": "TyG8N8LpoYQ7"
      },
      "source": [
        "**Schritt 2**\n",
        "\n",
        "Ich lese die Datei zeilenweise mit dem Template aus der ersten Woche in Colab ein."
      ]
    },
    {
      "cell_type": "code",
      "execution_count": null,
      "metadata": {
        "colab": {
          "base_uri": "https://localhost:8080/"
        },
        "id": "Ew25K-B8z3Or",
        "outputId": "47fef68e-bc90-4d94-d571-c112aab46d7b"
      },
      "outputs": [],
      "source": [
        "filename = '/Users/qbukold/Downloads/nyt.txt'\n",
        "\n",
        "content = []\n",
        "with open(filename, \"r\") as file_content:\n",
        "    for line in file_content.readlines():\n",
        "        line = line.strip()\n",
        "        content.append(line)\n",
        "\n",
        "for line in content: \n",
        "    print (line)"
      ]
    },
    {
      "attachments": {},
      "cell_type": "markdown",
      "metadata": {
        "id": "-Rnnm15c3Wqk"
      },
      "source": [
        "**Schritt 4: TSV generieren**\n",
        "\n",
        "Kombiniere Zeilen, bis bestimmter Marker auftaucht"
      ]
    },
    {
      "cell_type": "code",
      "execution_count": null,
      "metadata": {
        "colab": {
          "base_uri": "https://localhost:8080/"
        },
        "id": "H0F3JTDo3Uhv",
        "outputId": "1cb8b7a8-f347-469c-d727-0c78bb3fbb17"
      },
      "outputs": [],
      "source": [
        "import re\n",
        "\n",
        "new_list = []\n",
        "doc = []\n",
        "id = 1\n",
        "for i, line in enumerate(content):\n",
        "    if i <= 2:\n",
        "        continue\n",
        "\n",
        "    doc.append(line)\n",
        "    if re.match(\"Copyright .* The New York Times Company\", line):\n",
        "        string_for_list = ' '.join(doc)\n",
        "        string_for_list = str(id)+'\\t'+string_for_list\n",
        "        new_list.append(string_for_list)\n",
        "        doc = []\n",
        "        id += 1\n",
        "\n",
        "for line in new_list:\n",
        "    print (line)\n"
      ]
    },
    {
      "attachments": {},
      "cell_type": "markdown",
      "metadata": {
        "id": "LHphyYvU8rmi"
      },
      "source": [
        "**Zusatz**\n",
        "# Textdubletten\n",
        "\n",
        "Kurz, zwischendurch: In genau diesem Format können wir das Skript zur Erkennung von Dubletten vom 23. November verwenden. Ich brauche nur drei kleine Anpassungen.\n",
        "\n",
        "\n",
        "(Läuft etwa 30 Min.)"
      ]
    },
    {
      "cell_type": "code",
      "execution_count": null,
      "metadata": {
        "colab": {
          "base_uri": "https://localhost:8080/",
          "height": 1000
        },
        "id": "_Cv2pu7J7yga",
        "outputId": "ee8656c8-f9c5-4675-c8e9-81b82ee35045"
      },
      "outputs": [],
      "source": [
        "#!/usr/bin/python\n",
        "# -*- coding: utf-8 -*-\n",
        "\n",
        "import re\n",
        "import math\n",
        "\n",
        "# Kosinusähnlichkeit\n",
        "# Quelle:\n",
        "# https://stackoverflow.com/questions/41827983/right-way-to-calculate-the-cosine-similarity-of-two-word-frequency-dictionaries\n",
        "def kosinusaehnlichkeit(dic1, dic2):\n",
        "\n",
        "    numerator = 0\n",
        "    dena = 0\n",
        "    for key1,val1 in dic1.items():\n",
        "        numerator += val1*dic2.get(key1,0.0)\n",
        "        dena += val1*val1\n",
        "    denb = 0\n",
        "    for val2 in dic2.values():\n",
        "        denb += val2*val2\n",
        "    return numerator/math.sqrt(dena*denb)\n",
        "\n",
        "\n",
        "\n",
        "# Fingerabdruck aus einem Text erstellen\n",
        "def fingerabdruck_erstellen(text):\n",
        "\n",
        "    # Den Text auf seine \"seltenen Buchstaben\" reduzieren\n",
        "    seldom = text.lower()\n",
        "    seldom = re.sub('[^qxyjvpzkw]', '', seldom)\n",
        "\n",
        "    # 5-Grams produzieren\n",
        "    ngrams = []\n",
        "    for i, character in enumerate(seldom):\n",
        "        ngram = seldom[i:i+5]\n",
        "        ngrams.append(ngram)\n",
        "    count_ngrams = {i:ngrams.count(i) for i in ngrams}\n",
        "\n",
        "    return count_ngrams\n",
        "\n",
        "\n",
        "#\n",
        "#  ==> Hier \"startet\" das Skript.\n",
        "#\n",
        "\n",
        "# Datei einlesen\n",
        "#filename = 'sample_data/standard.tsv'\n",
        "#content = []\n",
        "# ÄNDERUNG 1: Der Teil, in dem eine Datei eingelesen wird, wurde auskommentiert.\n",
        "#with open(filename, \"r\") as file_content:\n",
        "#    for line in file_content.readlines():\n",
        "#        line = line.strip()\n",
        "#        content.append(line)\n",
        "\n",
        "\n",
        "# Die TSV-Datei zeilenweise durchlaufen\n",
        "for i, line in enumerate(new_list):\n",
        "    cells = line.split('\\t')\n",
        "\n",
        "    id = cells[0]\n",
        "    text = cells[1]\n",
        "    count_ngrams = fingerabdruck_erstellen(text)\n",
        "\n",
        "    print (id)\n",
        "    # Jetzt: Die TSV-Datei noch einmal durchlaufen\n",
        "    for j, line_2 in enumerate(new_list):\n",
        "\n",
        "        if j<=i:\n",
        "            continue\n",
        "\n",
        "        cells_2 = line_2.split('\\t')\n",
        "\n",
        "        id_2 = cells_2[0]\n",
        "        text_2 = cells_2[1]\n",
        "\n",
        "        count_ngrams_2 = fingerabdruck_erstellen(text_2)\n",
        "\n",
        "\n",
        "        cosine = kosinusaehnlichkeit(count_ngrams, count_ngrams_2)\n",
        "        if cosine > 0.5 and cosine < 1:\n",
        "            print ('######')\n",
        "            print ('ID 1: '+id)\n",
        "            print ('ID 2: '+id_2)\n",
        "            print (cosine)"
      ]
    },
    {
      "cell_type": "markdown",
      "metadata": {
        "id": "BRGYTA1N_rqo"
      },
      "source": [
        "**Schritt 4**\n",
        "\n",
        "Zurück zum TSV-Format (Variable new_list).\n",
        "\n",
        "Die Texte sollen mit der Terminologieliste \"termlist.txt\" abgeglichen werden.\n",
        "\n",
        "Ich lade die Datei - wie immer - in den Ordner sample_data. Über das Template aus der ersten Woche lade ich sie zeilenweise ein.\n",
        "\n",
        "Dann sollen die Zeitungstexte mit den Part-of-Speech-Tagger \"HanTa\" lemmatisiert werden, d. h.: Jedes Wort soll durch seine Grundform ersetzt werden. \n",
        "\n",
        "Danach soll jede dieser Grundformen mit der Terminologieliste \"termlist\" abgeglichen werden.\n",
        "\n",
        "Ich verwende dafür Teile aus der Datei \"Python-Vorlage: read termlist\" vom 30. November.\n",
        "\n",
        "Noch ein Zusatz: Mit der Option \"re.IGNORECASE\" in einem regulären Ausdruck spielt die Groß- und Kleinschreibung keine Rolle. Finden Sie die Syntax dazu im Internet?\n",
        "\n",
        "(Enthält vier Fehler.)\n",
        "\n",
        "(Läuft etwa 3 Min.)"
      ]
    },
    {
      "cell_type": "code",
      "execution_count": null,
      "metadata": {
        "colab": {
          "base_uri": "https://localhost:8080/",
          "height": 237
        },
        "id": "4nRChMUDBI52",
        "outputId": "6f51d86f-84f8-41d0-d5f1-5dda0d55d348"
      },
      "outputs": [],
      "source": [
        "filename = '/Users/qbukold/Downloads/termlist.txt'\n",
        "termlist = []\n",
        "with open(filename, \"r\") as file_content:\n",
        "    for line in file_content.readlines():\n",
        "        line = line.strip()\n",
        "        termlist.append(line)\n",
        "\n",
        "# NLTP installieren\n",
        "# HanTa installieren und inkludieren\n",
        "#!pip install HanTa\n",
        "from HanTa import HanoverTagger as ht\n",
        "import nltk\n",
        "nltk.download('punkt')\n",
        "\n",
        "# Zeile muss angepasst werden, um ein englisches Modell zu laden.\n",
        "tagger = ht.HanoverTagger('morphmodel_en.pgz')  \n",
        "\n",
        "for line in new_list:\n",
        "    words = nltk.word_tokenize(line)\n",
        "    tagged_words = tagger.tag_sent(words,taglevel= 1)\n",
        "\n",
        "    for tagged_word in tagged_words:\n",
        "        token = tagged_word[0]\n",
        "        lemma = tagged_word[1]\n",
        "        pos = tagged_word[2]\n",
        "        #print(lemma)\n",
        "\n",
        "        # Abgleich mit der Liste \"termlist\"\n",
        "        for entry in termlist:\n",
        "            if re.search(f'{entry}', lemma, re.IGNORECASE):\n",
        "                print(line)\n",
        "                print(lemma)"
      ]
    },
    {
      "cell_type": "markdown",
      "metadata": {
        "id": "ED_WY-jkFQJC"
      },
      "source": [
        "**Schritt 5**\n",
        "\n",
        "Ich will zählen, wie oft welches Suchwort gefunden wird. Darum erweitere ich das Skript von gerade.\n",
        "\n",
        "(Enthält 5 Fehler)"
      ]
    },
    {
      "cell_type": "code",
      "execution_count": 26,
      "metadata": {
        "colab": {
          "base_uri": "https://localhost:8080/",
          "height": 248
        },
        "id": "qAet56fcFVy2",
        "outputId": "38d9f00a-74bb-4f0c-8a3f-76aaf176d5a2"
      },
      "outputs": [
        {
          "data": {
            "image/png": "[encoded data removed]",
            "text/plain": [
              "<Figure size 640x480 with 1 Axes>"
            ]
          },
          "metadata": {},
          "output_type": "display_data"
        }
      ],
      "source": [
        "\n",
        "'''\n",
        "\n",
        "# Den Teil brauche ich nicht mehr:\n",
        "\n",
        "filename = 'sample_data/termlist.txt'\n",
        "termlist = []\n",
        "with open(filename, \"r\") as file_content:\n",
        "    for line in file_content.readlines():\n",
        "        line = line.strip()\n",
        "        termlist.append(line)\n",
        "\n",
        "# NLTP installieren\n",
        "# HanTa installieren und inkludieren\n",
        "!pip install HanTa\n",
        "from HanTa import HanoverTagger as ht\n",
        "import nltk\n",
        "nltk.download('punkt')\n",
        "\n",
        "# Zeile angepasst, um ein englisches Modell zu laden. Das Modell war ursprünglich: morphmodel_ger.pgz\n",
        "tagger = ht.HanoverTagger('morphmodel_en.pgz')\n",
        "'''\n",
        "\n",
        "\n",
        "\n",
        "# Ein Dict, um Treffer zu zählen\n",
        "collect_matches = {}\n",
        "\n",
        "for line in new_list:\n",
        "    words = nltk.word_tokenize(line)\n",
        "    tagged_words = tagger.tag_sent(words,taglevel= 1)\n",
        "\n",
        "    for tagged_word in tagged_words:\n",
        "        token = tagged_word[0]  \n",
        "        lemma = tagged_word[1]  \n",
        "        pos = tagged_word[2]  \n",
        "\n",
        "        # Abgleich mit der Liste \"termlist\"\n",
        "        for entry in termlist:\n",
        "            if re.search(rf'{entry}', lemma, re.IGNORECASE):\n",
        "                if entry in collect_matches:\n",
        "                    collect_matches[entry] += 1\n",
        "                else:\n",
        "                    collect_matches[entry] = 1\n",
        "\n",
        "# NEU: Zählung wird geplottet.\n",
        "# (Die Farben hab ich aus einer der Abgaben)\n",
        "import matplotlib.pyplot as plt \n",
        "import numpy as np \n",
        "\n",
        "y = collect_matches.values()\n",
        "mylabels = collect_matches.keys()\n",
        "mycolors = [\"blue\", \"violet\", \"green\",\"red\",\"yellow\",\"brown\",\"grey\",\"pink\"]\n",
        "\n",
        "plt.pie(y, labels=mylabels, colors=mycolors)\n",
        "plt.show()\n",
        "\n"
      ]
    },
    {
      "cell_type": "markdown",
      "metadata": {
        "id": "Nvqb8JDWKCrP"
      },
      "source": [
        "**Zusatz: Textklassifikation mit BERT**\n",
        "\n",
        "Ein letzter Teil der Wiederholung: Im Januar wurden Verfahren zur Textklassifikation vorgestellt - am 25. Januar auch zur Termextraktion mit keyBERT und zum Auffinden ähnlicher Sätze mit SBERT.\n",
        "\n",
        "BERT verwendet eine eigene Form der Tokenisierung. **Vor der Anwendung von BERT ist es nicht notwendig, Texte zu lemmatisieren!** \n",
        "\n",
        "BERT kann mit Colab erstaunlich einfach angewendet werden. Unten wird das Skript vom 18. Januar wiederholt. Wir benötigen auch die beiden Dateien train_data.tsv und apply_data.tsv, die auch zum 18. Januar im Learnweb sind. "
      ]
    },
    {
      "cell_type": "code",
      "execution_count": null,
      "metadata": {
        "id": "iH2WQToIKBz3"
      },
      "outputs": [],
      "source": [
        "# \n",
        "# Textklassifikation mit BERT\n",
        "#\n",
        "#\n",
        "# Quellen für das Skript:\n",
        "# https://github.com/ThilinaRajapakse/simpletransformers\n",
        "# und https://simpletransformers.ai\n",
        "#\n",
        "# Quelle für das Modell:\n",
        "# https://deepset.ai/german-bert\n",
        "#\n",
        "\n",
        "# Trainieren\n",
        "print (\"TRAINIEREN\")\n",
        "train_df = pd.read_csv('sample_data/training_data.tsv', sep='\\t')\n",
        "model = ClassificationModel('distilbert', 'distilbert-base-german-cased', use_cuda=False, args={'overwrite_output_dir': True, 'num_train_epochs': 1, 'num_workers': 0})\n",
        "model.train_model(train_df)\n",
        "\n",
        "\n",
        "# Trainiertes Modell anwenden\n",
        "apply_data = []\n",
        "with open('sample_data/apply_data.tsv', \"r\") as file_content:\n",
        "    for line in file_content.readlines():\n",
        "        line = line.strip()\n",
        "        apply_data.append(line)\n",
        "\n",
        "predictions, raw_outputs = model.predict(apply_data)\n",
        "print (\"Ergebnisse: \")\n",
        "for i, line in enumerate(predictions):\n",
        "    print (str(i)+'\\t'+apply_data[i]+'\\t'+str(line)+'\\t'+str(raw_outputs[i]))"
      ]
    },
    {
      "cell_type": "markdown",
      "metadata": {
        "id": "XmBTyYnhoLIH"
      },
      "source": []
    },
    {
      "cell_type": "markdown",
      "metadata": {
        "id": "6XffmRu_Klag"
      },
      "source": [
        "**Hinweis zu Trainingsdaten**\n",
        "\n",
        "Am 11. Januar haben wir einen Naive Bayes-Klassifizierer trainiert. Im Learnweb sind dazu Trainingsdaten: Textstücke, die entweder positiv oder negativ sind. \n",
        "\n",
        "Können Sie damit einen Modell zur Textklassifikation trainieren?\n",
        "\n",
        "Im Learnweb sind zum 11. Januar in der Datei 02_Rezensionen Texte, mit denen wir den Klassifizierer testen können. Wie gut funktioniert die Klassifikation?\n",
        "\n",
        "Wenn sie für manche Texte nicht gut funktioniert: Liegt das an den Trainingsdaten? Können wir sie Trainingsdaten evtl. anpassen?"
      ]
    }
  ],
  "metadata": {
    "colab": {
      "provenance": []
    },
    "kernelspec": {
      "display_name": "base",
      "language": "python",
      "name": "python3"
    },
    "language_info": {
      "codemirror_mode": {
        "name": "ipython",
        "version": 3
      },
      "file_extension": ".py",
      "mimetype": "text/x-python",
      "name": "python",
      "nbconvert_exporter": "python",
      "pygments_lexer": "ipython3",
      "version": "3.9.13"
    },
    "vscode": {
      "interpreter": {
        "hash": "40d3a090f54c6569ab1632332b64b2c03c39dcf918b08424e98f38b5ae0af88f"
      }
    }
  },
  "nbformat": 4,
  "nbformat_minor": 0
}
